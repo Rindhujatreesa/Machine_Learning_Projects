{
 "cells": [
  {
   "cell_type": "markdown",
   "id": "f71949e5",
   "metadata": {},
   "source": [
    "# Part 1 PCA"
   ]
  },
  {
   "cell_type": "markdown",
   "id": "74d37cbf",
   "metadata": {},
   "source": [
    "For this part of the project, you will be using the MNIST fashion data which can be reached as(there are many ways to reach out the data):"
   ]
  },
  {
   "cell_type": "code",
   "execution_count": 1,
   "id": "9cc97c50",
   "metadata": {},
   "outputs": [
    {
     "data": {
      "text/plain": [
       "dict_keys(['data', 'target', 'frame', 'categories', 'feature_names', 'target_names', 'DESCR', 'details', 'url'])"
      ]
     },
     "execution_count": 1,
     "metadata": {},
     "output_type": "execute_result"
    }
   ],
   "source": [
    "from sklearn.datasets import fetch_openml\n",
    "mnist = fetch_openml('mnist_784', version=1)\n",
    "mnist.keys()"
   ]
  },
  {
   "cell_type": "code",
   "execution_count": 2,
   "id": "3fd22b20",
   "metadata": {},
   "outputs": [
    {
     "data": {
      "text/plain": [
       "(70000, 784)"
      ]
     },
     "execution_count": 2,
     "metadata": {},
     "output_type": "execute_result"
    }
   ],
   "source": [
    "mnistX = mnist['data']\n",
    "mnistX.shape"
   ]
  },
  {
   "cell_type": "markdown",
   "id": "f22aba20",
   "metadata": {},
   "source": [
    "First apply PCA to the training data to find the transformation into a lower dimensional space.\n",
    "How many dimensions do we need to explain 90% of the total variation in the data?\n",
    "Apply the SAME centering and projection to the test data,What dimension did we embed into?"
   ]
  },
  {
   "cell_type": "code",
   "execution_count": 14,
   "id": "92594ec6",
   "metadata": {},
   "outputs": [
    {
     "name": "stdout",
     "output_type": "stream",
     "text": [
      "<class 'pandas.core.frame.DataFrame'>\n",
      "RangeIndex: 70000 entries, 0 to 69999\n",
      "Columns: 784 entries, pixel1 to pixel784\n",
      "dtypes: float64(784)\n",
      "memory usage: 418.7 MB\n"
     ]
    }
   ],
   "source": [
    "mnistX.info()"
   ]
  },
  {
   "cell_type": "markdown",
   "id": "b95ea445",
   "metadata": {},
   "source": [
    "All the features (pixel1 to pixel784) are float type"
   ]
  },
  {
   "cell_type": "code",
   "execution_count": 15,
   "id": "3066d7a1",
   "metadata": {
    "scrolled": true
   },
   "outputs": [
    {
     "data": {
      "text/plain": [
       "pandas.core.frame.DataFrame"
      ]
     },
     "execution_count": 15,
     "metadata": {},
     "output_type": "execute_result"
    }
   ],
   "source": [
    "type(mnistX)"
   ]
  },
  {
   "cell_type": "code",
   "execution_count": 6,
   "id": "bbc2dcdb",
   "metadata": {
    "scrolled": true
   },
   "outputs": [
    {
     "data": {
      "text/plain": [
       "pixel1      0\n",
       "pixel2      0\n",
       "pixel3      0\n",
       "pixel4      0\n",
       "pixel5      0\n",
       "           ..\n",
       "pixel780    0\n",
       "pixel781    0\n",
       "pixel782    0\n",
       "pixel783    0\n",
       "pixel784    0\n",
       "Length: 784, dtype: int64"
      ]
     },
     "execution_count": 6,
     "metadata": {},
     "output_type": "execute_result"
    }
   ],
   "source": [
    "mnistX.isnull().sum()"
   ]
  },
  {
   "cell_type": "code",
   "execution_count": 7,
   "id": "b8f7e468",
   "metadata": {},
   "outputs": [
    {
     "name": "stdout",
     "output_type": "stream",
     "text": [
      "The sum of missing/null values in the data set:  0\n"
     ]
    }
   ],
   "source": [
    "print(\"The sum of missing/null values in the data set: \",mnistX.isnull().sum().sum())"
   ]
  },
  {
   "cell_type": "markdown",
   "id": "03eb452c",
   "metadata": {},
   "source": [
    "The mnistX dataset has no null values."
   ]
  },
  {
   "cell_type": "code",
   "execution_count": 3,
   "id": "49f80ab1",
   "metadata": {},
   "outputs": [],
   "source": [
    "mnistY = mnist['target'] #This is our target variable or the classes"
   ]
  },
  {
   "cell_type": "code",
   "execution_count": 9,
   "id": "25e9ab18",
   "metadata": {
    "scrolled": true
   },
   "outputs": [
    {
     "data": {
      "text/plain": [
       "1    7877\n",
       "7    7293\n",
       "3    7141\n",
       "2    6990\n",
       "9    6958\n",
       "0    6903\n",
       "6    6876\n",
       "8    6825\n",
       "4    6824\n",
       "5    6313\n",
       "Name: class, dtype: int64"
      ]
     },
     "execution_count": 9,
     "metadata": {},
     "output_type": "execute_result"
    }
   ],
   "source": [
    "mnistY.value_counts()"
   ]
  },
  {
   "cell_type": "markdown",
   "id": "357316ad",
   "metadata": {},
   "source": [
    "The target feature mnistY has 10 classes(0,1,2,3,4,5,6,7,8,9)"
   ]
  },
  {
   "cell_type": "code",
   "execution_count": 10,
   "id": "1d4cddeb",
   "metadata": {},
   "outputs": [
    {
     "data": {
      "text/plain": [
       "(70000,)"
      ]
     },
     "execution_count": 10,
     "metadata": {},
     "output_type": "execute_result"
    }
   ],
   "source": [
    "mnistY.shape"
   ]
  },
  {
   "cell_type": "code",
   "execution_count": 4,
   "id": "065dd87f",
   "metadata": {},
   "outputs": [
    {
     "name": "stdout",
     "output_type": "stream",
     "text": [
      "Training samples: 49,000\n",
      "Test samples: 21,000\n"
     ]
    }
   ],
   "source": [
    "from sklearn.model_selection import train_test_split\n",
    "X_train, X_test, y_train, y_test = train_test_split(mnistX, mnistY, test_size=0.3, random_state=45)\n",
    "\n",
    "print(f'Training samples: {X_train.shape[0]:,}')\n",
    "print(f'Test samples: {X_test.shape[0]:,}')\n"
   ]
  },
  {
   "cell_type": "markdown",
   "id": "20e70680",
   "metadata": {},
   "source": [
    "### Data Description\n",
    "- `pixel1 - pixel784`: a feature for the data.  \n",
    "- `target`: variable we wish to be able to predict, which is 1 of 10 classes."
   ]
  },
  {
   "cell_type": "markdown",
   "id": "b5e550a1",
   "metadata": {},
   "source": [
    "###  Evaluating the number of Principal Components"
   ]
  },
  {
   "cell_type": "markdown",
   "id": "623488fb",
   "metadata": {},
   "source": [
    "Standardize the features using StandardScaler"
   ]
  },
  {
   "cell_type": "code",
   "execution_count": 5,
   "id": "1a3ceff0",
   "metadata": {},
   "outputs": [],
   "source": [
    "from sklearn.preprocessing import StandardScaler\n",
    "scaler = StandardScaler()\n",
    "X_train_std = scaler.fit_transform(X_train)\n",
    "X_test_std = scaler.transform(X_test)"
   ]
  },
  {
   "cell_type": "markdown",
   "id": "ea9a4e52",
   "metadata": {},
   "source": [
    "Find the covariance matrix which is used to find the eigen values of the feature sets"
   ]
  },
  {
   "cell_type": "code",
   "execution_count": 13,
   "id": "265609c5",
   "metadata": {},
   "outputs": [
    {
     "name": "stdout",
     "output_type": "stream",
     "text": [
      "[[0. 0. 0. ... 0. 0. 0.]\n",
      " [0. 0. 0. ... 0. 0. 0.]\n",
      " [0. 0. 0. ... 0. 0. 0.]\n",
      " ...\n",
      " [0. 0. 0. ... 0. 0. 0.]\n",
      " [0. 0. 0. ... 0. 0. 0.]\n",
      " [0. 0. 0. ... 0. 0. 0.]]\n"
     ]
    },
    {
     "data": {
      "text/plain": [
       "(784, 784)"
      ]
     },
     "execution_count": 13,
     "metadata": {},
     "output_type": "execute_result"
    }
   ],
   "source": [
    "import numpy as np\n",
    "cov_matrix = np.cov(X_train_std.T)\n",
    "print(cov_matrix)\n",
    "cov_matrix.shape"
   ]
  },
  {
   "cell_type": "markdown",
   "id": "304f09a0",
   "metadata": {},
   "source": [
    "Evaluating the eigenpairs from the covariance matrix"
   ]
  },
  {
   "cell_type": "code",
   "execution_count": 14,
   "id": "279ac586",
   "metadata": {
    "scrolled": true
   },
   "outputs": [
    {
     "data": {
      "image/png": "[encoded data removed]",
      "text/plain": [
       "<Figure size 432x288 with 1 Axes>"
      ]
     },
     "metadata": {
      "needs_background": "light"
     },
     "output_type": "display_data"
    }
   ],
   "source": [
    "import matplotlib.pyplot as plt\n",
    "eig_val, eig_vec = np.linalg.eig(cov_matrix)\n",
    "plt.plot(eig_val)\n",
    "plt.title(\"Eigen Values\")\n",
    "plt.show()"
   ]
  },
  {
   "cell_type": "markdown",
   "id": "9097a5c0",
   "metadata": {},
   "source": [
    "Finding the number of components that could explain 90% of the variance in the dataset"
   ]
  },
  {
   "cell_type": "code",
   "execution_count": 15,
   "id": "ae915f66",
   "metadata": {
    "scrolled": true
   },
   "outputs": [
    {
     "data": {
      "image/png": "[encoded data removed]",
      "text/plain": [
       "<Figure size 432x288 with 1 Axes>"
      ]
     },
     "metadata": {
      "needs_background": "light"
     },
     "output_type": "display_data"
    }
   ],
   "source": [
    "total_eig_val = sum(eig_val)\n",
    "variance = [(i/total_eig_val) for i in sorted(eig_val, reverse = True)]\n",
    "cum_variance = np.cumsum(variance)\n",
    "plt.bar(range(1,785), variance, alpha=0.5, align='center', label='Variance Explained')\n",
    "plt.step(range(1,785), cum_variance, where='mid', label='Cumulative Explained')\n",
    "plt.xlabel('Principal Components')\n",
    "plt.ylabel('Explained Variance')\n",
    "plt.grid()\n",
    "plt.show()"
   ]
  },
  {
   "cell_type": "markdown",
   "id": "6db5f568",
   "metadata": {},
   "source": [
    "> - First 50 components explain nearly 60% of teh varaince in the data.\n",
    "> - First 150 components explain nearly 80% of the variance.\n",
    "> - First 250 components explain nearly 90% of the variance.\n",
    "> ### We consider first 250 components for the PCA based learning in this project on the training data set, i.e., k = 250"
   ]
  },
  {
   "cell_type": "markdown",
   "id": "637b3ab2",
   "metadata": {},
   "source": [
    "### Finding the number of principal components for test data set"
   ]
  },
  {
   "cell_type": "code",
   "execution_count": 16,
   "id": "32bf8c5a",
   "metadata": {},
   "outputs": [
    {
     "name": "stdout",
     "output_type": "stream",
     "text": [
      "[[0. 0. 0. ... 0. 0. 0.]\n",
      " [0. 0. 0. ... 0. 0. 0.]\n",
      " [0. 0. 0. ... 0. 0. 0.]\n",
      " ...\n",
      " [0. 0. 0. ... 0. 0. 0.]\n",
      " [0. 0. 0. ... 0. 0. 0.]\n",
      " [0. 0. 0. ... 0. 0. 0.]]\n"
     ]
    },
    {
     "data": {
      "text/plain": [
       "(784, 784)"
      ]
     },
     "execution_count": 16,
     "metadata": {},
     "output_type": "execute_result"
    }
   ],
   "source": [
    "import numpy as np\n",
    "cov_matrix1 = np.cov(X_test_std.T)\n",
    "print(cov_matrix1)\n",
    "cov_matrix.shape"
   ]
  },
  {
   "cell_type": "code",
   "execution_count": 17,
   "id": "ba047166",
   "metadata": {},
   "outputs": [
    {
     "name": "stderr",
     "output_type": "stream",
     "text": [
      "C:\\Users\\hp\\anaconda3\\lib\\site-packages\\numpy\\core\\_asarray.py:102: ComplexWarning: Casting complex values to real discards the imaginary part\n",
      "  return array(a, dtype, copy=False, order=order)\n"
     ]
    },
    {
     "data": {
      "image/png": "[encoded data removed]",
      "text/plain": [
       "<Figure size 432x288 with 1 Axes>"
      ]
     },
     "metadata": {
      "needs_background": "light"
     },
     "output_type": "display_data"
    }
   ],
   "source": [
    "import matplotlib.pyplot as plt\n",
    "eig_val1, eig_vec1 = np.linalg.eig(cov_matrix1)\n",
    "plt.plot(eig_val1)\n",
    "plt.title(\"Eigen Values\")\n",
    "plt.show()"
   ]
  },
  {
   "cell_type": "code",
   "execution_count": 18,
   "id": "fba25903",
   "metadata": {},
   "outputs": [
    {
     "name": "stderr",
     "output_type": "stream",
     "text": [
      "C:\\Users\\hp\\anaconda3\\lib\\site-packages\\numpy\\core\\_asarray.py:102: ComplexWarning: Casting complex values to real discards the imaginary part\n",
      "  return array(a, dtype, copy=False, order=order)\n"
     ]
    },
    {
     "data": {
      "image/png": "[encoded data removed]",
      "text/plain": [
       "<Figure size 432x288 with 1 Axes>"
      ]
     },
     "metadata": {
      "needs_background": "light"
     },
     "output_type": "display_data"
    }
   ],
   "source": [
    "total_eig_val1 = sum(eig_val1)\n",
    "variance1 = [(i/total_eig_val1) for i in sorted(eig_val1, reverse = True)]\n",
    "cum_variance1 = np.cumsum(variance1)\n",
    "plt.bar(range(1,785), variance1, alpha=0.5, align='center', label='Variance Explained')\n",
    "plt.step(range(1,785), cum_variance1, where='mid', label='Cumulative Explained')\n",
    "plt.xlabel('Principal Components')\n",
    "plt.ylabel('Explained Variance')\n",
    "plt.grid()\n",
    "plt.show()"
   ]
  },
  {
   "cell_type": "markdown",
   "id": "ba047e8c",
   "metadata": {},
   "source": [
    "> #### From the above plot we observe that the 90% of the variance in the test data set is explained by first 150 components."
   ]
  },
  {
   "cell_type": "markdown",
   "id": "36823eae",
   "metadata": {},
   "source": [
    "A natural question to ask is what did we gain from this projection? Well, our algorithms will run MUCH faster on the reduced dimension data. Will we sacrifice accuracy for this speed boost? \n",
    "\n",
    "For this section, I would like you to run K-NN on the original data and on the reduced dimension data from PCA (NOTE: IN YOUR WRITE-UP, PLEASE GIVE A SHORT TEXT DESCRIPTION OF EACH CLASSIFIER BEFORE YOU USE IT).\n",
    "\n",
    "Use 10-fold Cross validation repeated 10 times to tune K\n",
    "- Consider K = 1, 2, 3, 4, 5, 6 in the repeated CV\n",
    "- Include a running time evaluation\n",
    "- Here I would like you to compare performance across data sets both based on accuracy (on the test data) AND on running time\n",
    "- How do the estimated test accuracies obtained from Cross Validation compare with the accuracies on the actual test data? Explain."
   ]
  },
  {
   "cell_type": "markdown",
   "id": "03bed9c8",
   "metadata": {},
   "source": [
    "## k-Nearest Neighbors (kNN)"
   ]
  },
  {
   "cell_type": "markdown",
   "id": "4955732b",
   "metadata": {},
   "source": [
    "- kNN algorithm memorizes the data in train data set and compares them with the test data set to determine which lies close to each of them.\n",
    "- Each data point uses two hyperparameters - k and distance - to determine their \"closeness\" to a data point in the train data set\n",
    "- This model is prone to overfitting\n",
    " > k\n",
    " > - It determines the balance between underfitting and overfitting.\n",
    " \n",
    " > Distance\n",
    " > - Uses the Euclidan/Minkowski distance formula to find how close a test data point is from a train data point\n",
    " - Here we are dealing with a (49000, 784) sized training dataset which can be memory exhausting.\n",
    " - We can either split the dataset into a sample set and run the model"
   ]
  },
  {
   "cell_type": "markdown",
   "id": "6b6b6ef9",
   "metadata": {},
   "source": [
    "### On the original Data set"
   ]
  },
  {
   "cell_type": "code",
   "execution_count": 19,
   "id": "2b0aa917",
   "metadata": {},
   "outputs": [],
   "source": [
    "from sklearn.pipeline import Pipeline\n",
    "from sklearn.preprocessing import StandardScaler\n",
    "from sklearn.neighbors import KNeighborsClassifier\n",
    "from sklearn.model_selection import GridSearchCV\n",
    "knn_m = Pipeline([('scaling', StandardScaler()),\n",
    "                                       ('model', KNeighborsClassifier())])\n",
    "\n",
    "\n",
    "param_grid = [\n",
    "  {'model__n_neighbors': [1, 2, 3, 4, 5, 6], 'model__weights': ['uniform','distance']}\n",
    " ]\n",
    "\n",
    "knn_results = GridSearchCV(estimator=knn_m, param_grid=param_grid, scoring='accuracy', refit=True, cv=10)\n",
    "#knn_results = knn_results.fit(X_train_std, y_train)"
   ]
  },
  {
   "cell_type": "code",
   "execution_count": 20,
   "id": "6eccd9fb",
   "metadata": {},
   "outputs": [
    {
     "name": "stdout",
     "output_type": "stream",
     "text": [
      "k-Nearest Neighbor Accuracy Score: 94.57%\n",
      "Time for model to run on original data set: 1110.35732 seconds\n"
     ]
    }
   ],
   "source": [
    "import time\n",
    "start_time = time.time()\n",
    "knn_results.fit(X_train_std, y_train)\n",
    "knn_score = knn_results.score(X_test_std, y_test)\n",
    "print(f\"k-Nearest Neighbor Accuracy Score: {knn_score:.2%}\")\n",
    "time_elapsed = time.time() - start_time\n",
    "print(f\"Time for model to run on original data set: {time_elapsed:.5f} seconds\")"
   ]
  },
  {
   "cell_type": "code",
   "execution_count": 21,
   "id": "d3402f10",
   "metadata": {},
   "outputs": [
    {
     "data": {
      "text/plain": [
       "{'model__n_neighbors': 4, 'model__weights': 'distance'}"
      ]
     },
     "execution_count": 21,
     "metadata": {},
     "output_type": "execute_result"
    }
   ],
   "source": [
    "best_knn = knn_results.best_params_\n",
    "best_knn"
   ]
  },
  {
   "cell_type": "code",
   "execution_count": 22,
   "id": "24198030",
   "metadata": {},
   "outputs": [
    {
     "data": {
      "text/plain": [
       "4"
      ]
     },
     "execution_count": 22,
     "metadata": {},
     "output_type": "execute_result"
    }
   ],
   "source": [
    "best_knn['model__n_neighbors']"
   ]
  },
  {
   "cell_type": "code",
   "execution_count": 23,
   "id": "e0718505",
   "metadata": {},
   "outputs": [
    {
     "name": "stdout",
     "output_type": "stream",
     "text": [
      "Time for best model to run on original data set: 0.12894 seconds\n",
      "k-Nearest Neighbor best Accuracy Score on original test data set: 93.94%\n"
     ]
    }
   ],
   "source": [
    "knn_original = KNeighborsClassifier(n_neighbors = best_knn['model__n_neighbors'])\n",
    "start_time1 = time.time()\n",
    "knn_original.fit(X_train_std,y_train)\n",
    "time_elapsed1 = time.time() - start_time1\n",
    "accuracy_test_1 = knn_original.score(X_test_std, y_test)\n",
    "print(f\"Time for best model to run on original data set: {time_elapsed1:.5f} seconds\")\n",
    "print(f'k-Nearest Neighbor best Accuracy Score on original test data set: {accuracy_test_1:.2%}')"
   ]
  },
  {
   "cell_type": "code",
   "execution_count": 25,
   "id": "b4bbfd72",
   "metadata": {},
   "outputs": [
    {
     "name": "stdout",
     "output_type": "stream",
     "text": [
      "k-Nearest Neighbor best Accuracy Score on original train data set: 96.34%\n"
     ]
    }
   ],
   "source": [
    "accuracy_train_1 = knn_original.score(X_train_std, y_train)\n",
    "print(f'k-Nearest Neighbor best Accuracy Score on original train data set: {accuracy_train_1:.2%}')"
   ]
  },
  {
   "cell_type": "markdown",
   "id": "be4c8e4b",
   "metadata": {},
   "source": [
    "#### Time Taken to run the best model on the original test data set = 0.12894 s"
   ]
  },
  {
   "cell_type": "markdown",
   "id": "c6ac2d09",
   "metadata": {},
   "source": [
    "### On the Dimension reduced data set"
   ]
  },
  {
   "cell_type": "code",
   "execution_count": 26,
   "id": "14b017e2",
   "metadata": {},
   "outputs": [],
   "source": [
    "from sklearn.decomposition import PCA\n",
    "pipeline_knn_pca = Pipeline([('pca',PCA()),\n",
    "                   ('model',KNeighborsClassifier())])\n",
    "params_knn_pca = {'model__n_neighbors':[1,2,3,4,5,6], 'pca__n_components': [150,200,250]} \n",
    "knn_pca = GridSearchCV(pipeline_knn_pca, param_grid = params_knn_pca, scoring = 'accuracy',cv = 10, refit = True)\n"
   ]
  },
  {
   "cell_type": "code",
   "execution_count": 27,
   "id": "d4d8c9d1",
   "metadata": {},
   "outputs": [],
   "source": [
    "start_time2 = time.time()\n",
    "knn_pca.fit(X_train_std, y_train)\n",
    "time_elapsed2 = time.time() - start_time2\n",
    "knn_pca_score = knn_pca.score(X_test_std, y_test)\n",
    "knn_pca_train_score = knn_pca.score(X_train_std, y_train)"
   ]
  },
  {
   "cell_type": "code",
   "execution_count": 33,
   "id": "9c7852d8",
   "metadata": {},
   "outputs": [
    {
     "name": "stdout",
     "output_type": "stream",
     "text": [
      "k-Nearest Neighbor Accuracy Score on reduced test data set: 95.44%\n",
      "Time for model to run on reduced test data set: 2069.43638 seconds\n",
      "k-Nearest Neighbor Accuracy Score on reduced train data set: 97.69%\n"
     ]
    }
   ],
   "source": [
    "print(f\"k-Nearest Neighbor Accuracy Score on reduced test data set: {knn_pca_score:.2%}\")\n",
    "print(f\"Time for model to run on reduced test data set: {time_elapsed2:.5f} seconds\")\n",
    "print(f\"k-Nearest Neighbor Accuracy Score on reduced train data set: {knn_pca_train_score:.2%}\")"
   ]
  },
  {
   "cell_type": "code",
   "execution_count": 36,
   "id": "99be81bb",
   "metadata": {},
   "outputs": [
    {
     "data": {
      "text/plain": [
       "150"
      ]
     },
     "execution_count": 36,
     "metadata": {},
     "output_type": "execute_result"
    }
   ],
   "source": [
    "best_pca_knn = knn_pca.best_params_['model__n_neighbors']\n",
    "knn_pca.best_params_['pca__n_components']"
   ]
  },
  {
   "cell_type": "code",
   "execution_count": 31,
   "id": "5d6a9e11",
   "metadata": {},
   "outputs": [],
   "source": [
    "knn_pca_data = KNeighborsClassifier(n_neighbors = best_pca_knn)\n",
    "start_time3 = time.time()\n",
    "knn_pca_data.fit(X_train_std,y_train)\n",
    "time_elapsed3 = time.time() - start_time3\n",
    "accuracy_test_2 = knn_pca_data.score(X_test_std, y_test)\n",
    "accuracy_train_2 = knn_pca_data.score(X_train_std, y_train)"
   ]
  },
  {
   "cell_type": "code",
   "execution_count": 34,
   "id": "477eff6f",
   "metadata": {
    "scrolled": true
   },
   "outputs": [
    {
     "name": "stdout",
     "output_type": "stream",
     "text": [
      "Time for best model to run on reduced test data set: 0.10764 seconds\n",
      "k-Nearest Neighbor best Accuracy Score on reduced test data set: 94.25%\n",
      "k-Nearest Neighbor best Accuracy Score on reduced train data set: 97.11%\n"
     ]
    }
   ],
   "source": [
    "print(f\"Time for best model to run on reduced test data set: {time_elapsed3:.5f} seconds\")\n",
    "print(f'k-Nearest Neighbor best Accuracy Score on reduced test data set: {accuracy_test_2:.2%}')\n",
    "print(f'k-Nearest Neighbor best Accuracy Score on reduced train data set: {accuracy_train_2:.2%}')"
   ]
  },
  {
   "cell_type": "markdown",
   "id": "a2a96b47",
   "metadata": {},
   "source": [
    "#### Time taken to run the model after implementing PCA on test data set = 0.10764 s\n",
    "\n",
    "> - The number of components considered for the model = 150, it matches with what we concluded from the variance explanation plot."
   ]
  },
  {
   "cell_type": "markdown",
   "id": "8ec947f5",
   "metadata": {},
   "source": [
    "#### Comparison between using original data set versus PCA implemented Data set\n",
    "> |  Data set  |  Train Accuracy  | Test Accuracy | Test Time |\n",
    "> |------------|------------------|---------------|-----------|\n",
    "> |  Original  |      96.34%      |     93.94%    |  0.12894s |\n",
    "> |  PCA-data  |      97.11%      |     94.25%    |  0.10764s |\n",
    "\n",
    "- Both the models give a reasonable train and test accuracy.\n",
    "- On comparing, the data after using PCA gives more accuracy and is executed in lesser time."
   ]
  },
  {
   "cell_type": "code",
   "execution_count": null,
   "id": "ec0565e0",
   "metadata": {},
   "outputs": [],
   "source": []
  }
 ],
 "metadata": {
  "kernelspec": {
   "display_name": "Python 3 (ipykernel)",
   "language": "python",
   "name": "python3"
  },
  "language_info": {
   "codemirror_mode": {
    "name": "ipython",
    "version": 3
   },
   "file_extension": ".py",
   "mimetype": "text/x-python",
   "name": "python",
   "nbconvert_exporter": "python",
   "pygments_lexer": "ipython3",
   "version": "3.11.6"
  }
 },
 "nbformat": 4,
 "nbformat_minor": 5
}
