{
 "cells": [
  {
   "cell_type": "markdown",
   "metadata": {
    "id": "KnMnFzzI9Thc"
   },
   "source": [
    "## Part 2 Comparing Across Classifiers"
   ]
  },
  {
   "cell_type": "code",
   "execution_count": null,
   "metadata": {
    "colab": {
     "base_uri": "https://localhost:8080/"
    },
    "id": "FpoWVpuP1G2-",
    "outputId": "cef32441-7019-48f4-cab7-8731c1c4aaf6"
   },
   "outputs": [
    {
     "name": "stderr",
     "output_type": "stream",
     "text": [
      "/usr/local/lib/python3.10/dist-packages/sklearn/datasets/_openml.py:968: FutureWarning: The default value of `parser` will change from `'liac-arff'` to `'auto'` in 1.4. You can set `parser='auto'` to silence this warning. Therefore, an `ImportError` will be raised from 1.4 if the dataset is dense and pandas is not installed. Note that the pandas parser may return different data types. See the Notes Section in fetch_openml's API doc for details.\n",
      "  warn(\n"
     ]
    },
    {
     "data": {
      "text/plain": [
       "dict_keys(['data', 'target', 'frame', 'categories', 'feature_names', 'target_names', 'DESCR', 'details', 'url'])"
      ]
     },
     "execution_count": 1,
     "metadata": {},
     "output_type": "execute_result"
    },
    {
     "name": "stderr",
     "output_type": "stream",
     "text": [
      "/usr/local/lib/python3.10/dist-packages/sklearn/datasets/_openml.py:968: FutureWarning: The default value of `parser` will change from `'liac-arff'` to `'auto'` in 1.4. You can set `parser='auto'` to silence this warning. Therefore, an `ImportError` will be raised from 1.4 if the dataset is dense and pandas is not installed. Note that the pandas parser may return different data types. See the Notes Section in fetch_openml's API doc for details.\n",
      "  warn(\n"
     ]
    },
    {
     "data": {
      "text/plain": [
       "dict_keys(['data', 'target', 'frame', 'categories', 'feature_names', 'target_names', 'DESCR', 'details', 'url'])"
      ]
     },
     "execution_count": 7,
     "metadata": {},
     "output_type": "execute_result"
    }
   ],
   "source": [
    "from sklearn.datasets import fetch_openml\n",
    "mnist = fetch_openml('mnist_784', version=1)\n",
    "mnist.keys()"
   ]
  },
  {
   "cell_type": "code",
   "execution_count": null,
   "metadata": {
    "colab": {
     "base_uri": "https://localhost:8080/"
    },
    "id": "pCc8VFhq1LOm",
    "outputId": "08abac60-f167-4d75-b51b-1eec5c49a196"
   },
   "outputs": [
    {
     "data": {
      "text/plain": [
       "(70000, 784)"
      ]
     },
     "execution_count": 2,
     "metadata": {},
     "output_type": "execute_result"
    },
    {
     "data": {
      "text/plain": [
       "(70000, 784)"
      ]
     },
     "execution_count": 8,
     "metadata": {},
     "output_type": "execute_result"
    }
   ],
   "source": [
    "mnistX = mnist['data']\n",
    "mnistX.shape"
   ]
  },
  {
   "cell_type": "code",
   "execution_count": null,
   "metadata": {
    "id": "fA_Pg2r-1R6x"
   },
   "outputs": [],
   "source": [
    "mnistY = mnist['target']"
   ]
  },
  {
   "cell_type": "code",
   "execution_count": null,
   "metadata": {
    "colab": {
     "base_uri": "https://localhost:8080/"
    },
    "id": "1OXpSLzw1ShI",
    "outputId": "26fee34f-2b0d-4dd0-dc6f-df962700b82e"
   },
   "outputs": [
    {
     "name": "stdout",
     "output_type": "stream",
     "text": [
      "Training samples: 49,000\n",
      "Test samples: 21,000\n",
      "Training samples: 49,000\n",
      "Test samples: 21,000\n"
     ]
    }
   ],
   "source": [
    "from sklearn.model_selection import train_test_split\n",
    "X_train, X_test, y_train, y_test = train_test_split(mnistX, mnistY, test_size=0.3, random_state=45)\n",
    "\n",
    "print(f'Training samples: {X_train.shape[0]:,}')\n",
    "print(f'Test samples: {X_test.shape[0]:,}')"
   ]
  },
  {
   "cell_type": "code",
   "execution_count": null,
   "metadata": {
    "id": "hDtUQMZ71Uwe"
   },
   "outputs": [],
   "source": [
    "from sklearn.preprocessing import StandardScaler\n",
    "scaler = StandardScaler()\n",
    "X_train_std = scaler.fit_transform(X_train)\n",
    "X_test_std = scaler.transform(X_test)"
   ]
  },
  {
   "cell_type": "markdown",
   "metadata": {
    "id": "NMTPD1eB9bGI"
   },
   "source": [
    "For the next section, you will compare the performance of multiple classifiers (tuned via CV) on the test data. You will run these classifiers on the dimension reduced PCA data (NOTE: IN YOUR WRITE-UP, PLEASE GIVE A SHORT TEXT DESCRIPTION OF EACH CLASSIFIER BEFORE YOU USE IT).\n",
    "\n",
    "- REMEMBER TO TRAIN THE FINAL MODEL ON THE FULL TRAINING SET AFTER TUNING THE PARAMETERS\n",
    "- I would like you to run the following classifiers using 10-fold CV repeated 5 times to tune the parameters\n",
    "  - Linear SVM\n",
    "  - Radial Basis SVM\n",
    "- I would also like you to train a Random Forest\n",
    "- I would also like you to train an LDA model\n",
    "- I would also like you to train a QDA model\n",
    "\n",
    "For each model, I would like you to compare across both test accuracy and running time. In particular, I would like you to address\n",
    "- (*)Which model would you choose out of the above (including K-NN)? Why would you make this choice?\n",
    "- For the models that provide a test error estimate (Random Forest via the error and the CV-tuned models via cross validation), which would you have chosen based on the estimated test error? Explain how this relates to your answer to question (*)?\n",
    "- For the models that do not immediately provide a test error estimate (LDA and QDA), how could you estimate test error (Hint: CV)?"
   ]
  },
  {
   "cell_type": "markdown",
   "metadata": {
    "id": "TPlQBtrQ9vQL"
   },
   "source": [
    "#### Creating a PCA pipeline for train and test data sets."
   ]
  },
  {
   "cell_type": "markdown",
   "metadata": {
    "id": "44KQPuoMojeG"
   },
   "source": [
    "We have calculated that 150 components give a 90% explanation for variance on the test data set. We use that here to build the standardized train and test data sets to build different models"
   ]
  },
  {
   "cell_type": "code",
   "execution_count": null,
   "metadata": {
    "id": "--Qns_W41XUV"
   },
   "outputs": [],
   "source": [
    "import numpy as np\n",
    "from sklearn.decomposition import PCA\n",
    "pca_train = PCA(n_components = 150)\n",
    "X_train_pca = pca_train.fit_transform(X_train_std)\n",
    "pca_test = PCA(n_components = 150)\n",
    "X_test_pca = pca_test.fit_transform(X_test_std)"
   ]
  },
  {
   "cell_type": "markdown",
   "metadata": {
    "id": "0pqlH8kk91gq"
   },
   "source": [
    "### Linear and Radial Basis Support Vector Machine"
   ]
  },
  {
   "cell_type": "markdown",
   "metadata": {
    "id": "uRravVzq9-oG"
   },
   "source": [
    "#### Linear SVM\n",
    "\n",
    "Linear SVM creates linear hyperplanes that attempt to maximize the separation or margin of the classes. All the classes will be maximally separated from each other by a <b>straight line</b>, i.e., each class is defined such that th distance between them is maximized.\n",
    "\n",
    "The model uses Euclidean distance to determine the distance between the classes."
   ]
  },
  {
   "cell_type": "code",
   "execution_count": null,
   "metadata": {
    "id": "6p-IOzl41cNp"
   },
   "outputs": [],
   "source": [
    "from sklearn.pipeline import Pipeline\n",
    "from sklearn.model_selection import GridSearchCV\n",
    "from sklearn.svm import SVC\n",
    "pipeline_lsvc = Pipeline([('model',SVC())\n",
    "                        ])\n",
    "params_lsvc = [{'model__C':[0.01], 'model__kernel':['linear']}]\n",
    "lsvc_grid = GridSearchCV(estimator = pipeline_lsvc, param_grid = params_lsvc, scoring = 'accuracy', refit = True, cv = 10)"
   ]
  },
  {
   "cell_type": "code",
   "execution_count": null,
   "metadata": {
    "id": "w2Ux-sZs1jc8"
   },
   "outputs": [],
   "source": [
    "import time\n",
    "start_time_lsvc = time.time()\n",
    "lsvc_grid = lsvc_grid.fit(X_train_pca,y_train)\n",
    "time_elapsed_lsvc = time.time() - start_time_lsvc\n",
    "accuracy_train_lsvc = lsvc_grid.score(X_train_pca, y_train)\n",
    "accuracy_test_lsvc = lsvc_grid.score(X_test_pca, y_test)"
   ]
  },
  {
   "cell_type": "code",
   "execution_count": null,
   "metadata": {
    "colab": {
     "base_uri": "https://localhost:8080/"
    },
    "id": "J8grOKZb-GpH",
    "outputId": "0df1cbfe-7655-4cad-a7e2-473591ee3803"
   },
   "outputs": [
    {
     "name": "stdout",
     "output_type": "stream",
     "text": [
      "Linear SVC Accuracy Score on reduced test data set: 4.40%\n",
      "Time for model to run on reduced test data set: 316.44184 seconds\n",
      "Linear SVC Accuracy Score on reduced train data set: 94.90%\n"
     ]
    }
   ],
   "source": [
    "print(f\"Linear SVC Accuracy Score on reduced test data set: {accuracy_test_lsvc:.2%}\")\n",
    "print(f\"Time for model to run on reduced test data set: {time_elapsed_lsvc:.5f} seconds\")\n",
    "print(f\"Linear SVC Accuracy Score on reduced train data set: {accuracy_train_lsvc:.2%}\")"
   ]
  },
  {
   "cell_type": "code",
   "execution_count": null,
   "metadata": {
    "id": "yS4CuIbj2Pd6"
   },
   "outputs": [],
   "source": [
    "from sklearn.pipeline import Pipeline\n",
    "from sklearn.model_selection import GridSearchCV\n",
    "from sklearn.svm import SVC\n",
    "pipeline_lsvc = Pipeline([('model',SVC())\n",
    "                        ])\n",
    "params_lsvc = [{'model__C':[0.05], 'model__kernel':['linear']}]\n",
    "lsvc_grid = GridSearchCV(estimator = pipeline_lsvc, param_grid = params_lsvc, scoring = 'accuracy', refit = True, cv = 10)"
   ]
  },
  {
   "cell_type": "code",
   "execution_count": null,
   "metadata": {
    "id": "dHxHSZQv2PSt"
   },
   "outputs": [],
   "source": [
    "start_time_lsvc = time.time()\n",
    "lsvc_grid = lsvc_grid.fit(X_train_pca,y_train)\n",
    "time_elapsed_lsvc = time.time() - start_time_lsvc\n",
    "accuracy_train_lsvc = lsvc_grid.score(X_train_pca, y_train)\n",
    "accuracy_test_lsvc = lsvc_grid.score(X_test_pca, y_test)"
   ]
  },
  {
   "cell_type": "code",
   "execution_count": null,
   "metadata": {
    "colab": {
     "base_uri": "https://localhost:8080/"
    },
    "id": "BM2M6UK12PHS",
    "outputId": "bb649d91-d716-43ef-8c88-afc070c006fc"
   },
   "outputs": [
    {
     "name": "stdout",
     "output_type": "stream",
     "text": [
      "Linear SVC Accuracy Score on reduced test data set: 5.04%\n",
      "Time for model to run on reduced test data set: 432.12095 seconds\n",
      "Linear SVC Accuracy Score on reduced train data set: 95.31%\n"
     ]
    }
   ],
   "source": [
    "print(f\"Linear SVC Accuracy Score on reduced test data set: {accuracy_test_lsvc:.2%}\")\n",
    "print(f\"Time for model to run on reduced test data set: {time_elapsed_lsvc:.5f} seconds\")\n",
    "print(f\"Linear SVC Accuracy Score on reduced train data set: {accuracy_train_lsvc:.2%}\")"
   ]
  },
  {
   "cell_type": "code",
   "execution_count": null,
   "metadata": {
    "id": "ZPMV-Uxx2O6x"
   },
   "outputs": [],
   "source": [
    "from sklearn.pipeline import Pipeline\n",
    "from sklearn.model_selection import GridSearchCV\n",
    "from sklearn.svm import SVC\n",
    "pipeline_lsvc = Pipeline([('model',SVC())\n",
    "                        ])\n",
    "params_lsvc = [{'model__C':[0.1], 'model__kernel':['linear']}]\n",
    "lsvc_grid = GridSearchCV(estimator = pipeline_lsvc, param_grid = params_lsvc, scoring = 'accuracy', refit = True, cv = 10)"
   ]
  },
  {
   "cell_type": "code",
   "execution_count": null,
   "metadata": {
    "id": "hkY6h3q32zfp"
   },
   "outputs": [],
   "source": [
    "start_time_lsvc = time.time()\n",
    "lsvc_grid = lsvc_grid.fit(X_train_pca,y_train)\n",
    "time_elapsed_lsvc = time.time() - start_time_lsvc\n",
    "accuracy_train_lsvc = lsvc_grid.score(X_train_pca, y_train)\n",
    "accuracy_test_lsvc = lsvc_grid.score(X_test_pca, y_test)"
   ]
  },
  {
   "cell_type": "code",
   "execution_count": null,
   "metadata": {
    "colab": {
     "base_uri": "https://localhost:8080/"
    },
    "id": "aiqo5QRb24E7",
    "outputId": "d5a0e22d-6c53-41ee-bde5-11fee603cfc9"
   },
   "outputs": [
    {
     "name": "stdout",
     "output_type": "stream",
     "text": [
      "Linear SVC Accuracy Score on reduced test data set: 5.39%\n",
      "Time for model to run on reduced test data set: 436.83987 seconds\n",
      "Linear SVC Accuracy Score on reduced train data set: 95.48%\n"
     ]
    }
   ],
   "source": [
    "print(f\"Linear SVC Accuracy Score on reduced test data set: {accuracy_test_lsvc:.2%}\")\n",
    "print(f\"Time for model to run on reduced test data set: {time_elapsed_lsvc:.5f} seconds\")\n",
    "print(f\"Linear SVC Accuracy Score on reduced train data set: {accuracy_train_lsvc:.2%}\")"
   ]
  },
  {
   "cell_type": "code",
   "execution_count": null,
   "metadata": {
    "id": "I3Z-NSKK2Oul"
   },
   "outputs": [],
   "source": [
    "from sklearn.pipeline import Pipeline\n",
    "from sklearn.model_selection import GridSearchCV\n",
    "from sklearn.svm import SVC\n",
    "pipeline_lsvc = Pipeline([('model',SVC())\n",
    "                        ])\n",
    "params_lsvc = [{'model__C':[0.15], 'model__kernel':['linear']}]\n",
    "lsvc_grid = GridSearchCV(estimator = pipeline_lsvc, param_grid = params_lsvc, scoring = 'accuracy', refit = True, cv = 10)"
   ]
  },
  {
   "cell_type": "code",
   "execution_count": null,
   "metadata": {
    "id": "7UcWxw4d20xI"
   },
   "outputs": [],
   "source": [
    "start_time_lsvc = time.time()\n",
    "lsvc_grid = lsvc_grid.fit(X_train_pca,y_train)\n",
    "time_elapsed_lsvc = time.time() - start_time_lsvc\n",
    "accuracy_train_lsvc = lsvc_grid.score(X_train_pca, y_train)\n",
    "accuracy_test_lsvc = lsvc_grid.score(X_test_pca, y_test)"
   ]
  },
  {
   "cell_type": "code",
   "execution_count": null,
   "metadata": {
    "colab": {
     "base_uri": "https://localhost:8080/"
    },
    "id": "CAMhRAlo25Ir",
    "outputId": "16d9aa19-7f92-49f9-9689-3850b40e1c83"
   },
   "outputs": [
    {
     "name": "stdout",
     "output_type": "stream",
     "text": [
      "Linear SVC Accuracy Score on reduced test data set: 5.56%\n",
      "Time for model to run on reduced test data set: 486.28641 seconds\n",
      "Linear SVC Accuracy Score on reduced train data set: 95.58%\n"
     ]
    }
   ],
   "source": [
    "print(f\"Linear SVC Accuracy Score on reduced test data set: {accuracy_test_lsvc:.2%}\")\n",
    "print(f\"Time for model to run on reduced test data set: {time_elapsed_lsvc:.5f} seconds\")\n",
    "print(f\"Linear SVC Accuracy Score on reduced train data set: {accuracy_train_lsvc:.2%}\")"
   ]
  },
  {
   "cell_type": "code",
   "execution_count": null,
   "metadata": {
    "id": "NXfp9tuh2Oj3"
   },
   "outputs": [],
   "source": [
    "from sklearn.pipeline import Pipeline\n",
    "from sklearn.model_selection import GridSearchCV\n",
    "from sklearn.svm import SVC\n",
    "pipeline_lsvc = Pipeline([('model',SVC())\n",
    "                        ])\n",
    "params_lsvc = [{'model__C':[0.2], 'model__kernel':['linear']}]\n",
    "lsvc_grid = GridSearchCV(estimator = pipeline_lsvc, param_grid = params_lsvc, scoring = 'accuracy', refit = True, cv = 10)"
   ]
  },
  {
   "cell_type": "code",
   "execution_count": null,
   "metadata": {
    "id": "jLgaAZM42N94"
   },
   "outputs": [],
   "source": [
    "start_time_lsvc = time.time()\n",
    "lsvc_grid = lsvc_grid.fit(X_train_pca,y_train)\n",
    "time_elapsed_lsvc = time.time() - start_time_lsvc\n",
    "accuracy_train_lsvc = lsvc_grid.score(X_train_pca, y_train)\n",
    "accuracy_test_lsvc = lsvc_grid.score(X_test_pca, y_test)"
   ]
  },
  {
   "cell_type": "code",
   "execution_count": null,
   "metadata": {
    "colab": {
     "base_uri": "https://localhost:8080/"
    },
    "id": "VcKJ2HYa2Njm",
    "outputId": "fce460db-c371-4d2e-c0d2-bf1429add586"
   },
   "outputs": [
    {
     "name": "stdout",
     "output_type": "stream",
     "text": [
      "Linear SVC Accuracy Score on reduced test data set: 5.68%\n",
      "Time for model to run on reduced test data set: 550.90286 seconds\n",
      "Linear SVC Accuracy Score on reduced train data set: 95.61%\n"
     ]
    }
   ],
   "source": [
    "print(f\"Linear SVC Accuracy Score on reduced test data set: {accuracy_test_lsvc:.2%}\")\n",
    "print(f\"Time for model to run on reduced test data set: {time_elapsed_lsvc:.5f} seconds\")\n",
    "print(f\"Linear SVC Accuracy Score on reduced train data set: {accuracy_train_lsvc:.2%}\")"
   ]
  },
  {
   "cell_type": "code",
   "execution_count": null,
   "metadata": {
    "id": "Mtz1ReOO-KAw"
   },
   "outputs": [],
   "source": [
    "best_pca_lsvc = 0.15"
   ]
  },
  {
   "cell_type": "code",
   "execution_count": null,
   "metadata": {
    "id": "AjQ6Ok55-OEe"
   },
   "outputs": [],
   "source": [
    "lsvc_best = SVC(C = best_pca_lsvc, kernel = 'linear')\n",
    "start_time_lsvc1 = time.time()\n",
    "lsvc_best.fit(X_test_pca,y_test)\n",
    "time_elapsed_lsvc1 = time.time() - start_time_lsvc1\n",
    "accuracy_test_lsvc1 = lsvc_best.score(X_test_pca, y_test)"
   ]
  },
  {
   "cell_type": "code",
   "execution_count": null,
   "metadata": {
    "colab": {
     "base_uri": "https://localhost:8080/"
    },
    "id": "XFh7_sTq-RJG",
    "outputId": "9f7119d7-4f74-4bc1-e618-137a006dc3f3"
   },
   "outputs": [
    {
     "name": "stdout",
     "output_type": "stream",
     "text": [
      "Time for best model to run on reduced test data set: 6.06220 seconds\n",
      "Linear SVM best Accuracy Score on reduced test data set: 96.35%\n"
     ]
    }
   ],
   "source": [
    "print(f\"Time for best model to run on reduced test data set: {time_elapsed_lsvc1:.5f} seconds\")\n",
    "print(f'Linear SVM best Accuracy Score on reduced test data set: {accuracy_test_lsvc1:.2%}')\n",
    "#print(f'Linear SVM best Accuracy Score on reduced train data set: {accuracy_train_lsvc1:.2%}')"
   ]
  },
  {
   "cell_type": "markdown",
   "metadata": {
    "id": "HpEaYEbDy97s"
   },
   "source": [
    "> The best model has a c-value of 0.15. It has the best balance of accuracy and runtime."
   ]
  },
  {
   "cell_type": "markdown",
   "metadata": {
    "id": "kN4lNYCi-V34"
   },
   "source": [
    "#### Radial Basis SVM\n",
    "\n",
    "Radial Basis SVM deals with features with are inherently non-linearly related. i.e., instead of being separated by a straight line, each class will be maximally separated by a curve solved by optimizing the constraints involved."
   ]
  },
  {
   "cell_type": "code",
   "execution_count": null,
   "metadata": {
    "id": "F92sfjg1ZyOu"
   },
   "outputs": [],
   "source": [
    "from sklearn.pipeline import Pipeline\n",
    "from sklearn.model_selection import GridSearchCV\n",
    "from sklearn.svm import SVC"
   ]
  },
  {
   "cell_type": "code",
   "execution_count": null,
   "metadata": {
    "id": "t6c6O_7n-X6x"
   },
   "outputs": [],
   "source": [
    "pipeline_rsvc = Pipeline([('model',SVC())\n",
    "                        ])\n",
    "params_rsvc = [{'model__C':[0.01], 'model__kernel':['rbf']}]\n",
    "rsvc_grid = GridSearchCV(estimator = pipeline_rsvc, param_grid = params_rsvc, scoring = 'accuracy', refit = True, cv = 10)"
   ]
  },
  {
   "cell_type": "code",
   "execution_count": null,
   "metadata": {
    "id": "ngX0dSdJ-b18"
   },
   "outputs": [],
   "source": [
    "import time\n",
    "start_time_rsvc = time.time()\n",
    "rsvc_grid = rsvc_grid.fit(X_train_pca,y_train)\n",
    "time_elapsed_rsvc = time.time() - start_time_rsvc\n",
    "accuracy_train_rsvc = rsvc_grid.score(X_train_pca, y_train)\n",
    "accuracy_test_rsvc = rsvc_grid.score(X_test_pca, y_test)"
   ]
  },
  {
   "cell_type": "code",
   "execution_count": null,
   "metadata": {
    "colab": {
     "base_uri": "https://localhost:8080/"
    },
    "id": "Mo_fqbB3-fVY",
    "outputId": "18a12d86-539a-4231-a2ba-dd91f5100704"
   },
   "outputs": [
    {
     "name": "stdout",
     "output_type": "stream",
     "text": [
      "Radial Basis SVC Accuracy Score on reduced test data set: 8.80%\n",
      "Time for model to run on reduced traint data set: 3419.57601 seconds\n",
      "Radial Basis SVC Accuracy Score on reduced train data set: 87.21%\n"
     ]
    }
   ],
   "source": [
    "print(f\"Radial Basis SVC Accuracy Score on reduced test data set: {accuracy_test_rsvc:.2%}\")\n",
    "print(f\"Time for model to run on reduced traint data set: {time_elapsed_rsvc:.5f} seconds\")\n",
    "print(f\"Radial Basis SVC Accuracy Score on reduced train data set: {accuracy_train_rsvc:.2%}\")"
   ]
  },
  {
   "cell_type": "code",
   "execution_count": null,
   "metadata": {
    "id": "DfAPLFtL3kId"
   },
   "outputs": [],
   "source": [
    "pipeline_rsvc = Pipeline([('model',SVC())\n",
    "                        ])\n",
    "params_rsvc = [{'model__C':[0.05], 'model__kernel':['rbf']}]\n",
    "rsvc_grid = GridSearchCV(estimator = pipeline_rsvc, param_grid = params_rsvc, scoring = 'accuracy', refit = True, cv = 10)"
   ]
  },
  {
   "cell_type": "code",
   "execution_count": null,
   "metadata": {
    "id": "BtMhDfeX3j9O"
   },
   "outputs": [],
   "source": [
    "import time\n",
    "start_time_rsvc = time.time()\n",
    "rsvc_grid = rsvc_grid.fit(X_train_pca,y_train)\n",
    "time_elapsed_rsvc = time.time() - start_time_rsvc\n",
    "accuracy_train_rsvc = rsvc_grid.score(X_train_pca, y_train)\n",
    "accuracy_test_rsvc = rsvc_grid.score(X_test_pca, y_test)"
   ]
  },
  {
   "cell_type": "code",
   "execution_count": null,
   "metadata": {
    "colab": {
     "base_uri": "https://localhost:8080/"
    },
    "id": "bMec4Gyf3jxj",
    "outputId": "fac0aadf-fb56-422e-eb03-7fea4ebe32e4"
   },
   "outputs": [
    {
     "name": "stdout",
     "output_type": "stream",
     "text": [
      "Radial Basis SVC Accuracy Score on reduced test data set: 7.29%\n",
      "Time for model to run on reduced traint data set: 1745.66063 seconds\n",
      "Radial Basis SVC Accuracy Score on reduced train data set: 92.88%\n"
     ]
    }
   ],
   "source": [
    "print(f\"Radial Basis SVC Accuracy Score on reduced test data set: {accuracy_test_rsvc:.2%}\")\n",
    "print(f\"Time for model to run on reduced traint data set: {time_elapsed_rsvc:.5f} seconds\")\n",
    "print(f\"Radial Basis SVC Accuracy Score on reduced train data set: {accuracy_train_rsvc:.2%}\")"
   ]
  },
  {
   "cell_type": "code",
   "execution_count": null,
   "metadata": {
    "id": "xDacWUso3jlW"
   },
   "outputs": [],
   "source": [
    "pipeline_rsvc = Pipeline([('model',SVC())\n",
    "                        ])\n",
    "params_rsvc = [{'model__C':[0.1], 'model__kernel':['rbf']}]\n",
    "rsvc_grid = GridSearchCV(estimator = pipeline_rsvc, param_grid = params_rsvc, scoring = 'accuracy', refit = True, cv = 10)"
   ]
  },
  {
   "cell_type": "code",
   "execution_count": null,
   "metadata": {
    "id": "1eSqmdvP3jZY"
   },
   "outputs": [],
   "source": [
    "import time\n",
    "start_time_rsvc = time.time()\n",
    "rsvc_grid = rsvc_grid.fit(X_train_pca,y_train)\n",
    "time_elapsed_rsvc = time.time() - start_time_rsvc\n",
    "accuracy_train_rsvc = rsvc_grid.score(X_train_pca, y_train)\n",
    "accuracy_test_rsvc = rsvc_grid.score(X_test_pca, y_test)"
   ]
  },
  {
   "cell_type": "code",
   "execution_count": null,
   "metadata": {
    "colab": {
     "base_uri": "https://localhost:8080/"
    },
    "id": "rtkBpokf3jNG",
    "outputId": "4f008892-d88f-491b-910f-bca3be303a09"
   },
   "outputs": [
    {
     "name": "stdout",
     "output_type": "stream",
     "text": [
      "Radial Basis SVC Accuracy Score on reduced test data set: 7.07%\n",
      "Time for model to run on reduced traint data set: 1295.54594 seconds\n",
      "Radial Basis SVC Accuracy Score on reduced train data set: 94.47%\n"
     ]
    }
   ],
   "source": [
    "print(f\"Radial Basis SVC Accuracy Score on reduced test data set: {accuracy_test_rsvc:.2%}\")\n",
    "print(f\"Time for model to run on reduced traint data set: {time_elapsed_rsvc:.5f} seconds\")\n",
    "print(f\"Radial Basis SVC Accuracy Score on reduced train data set: {accuracy_train_rsvc:.2%}\")"
   ]
  },
  {
   "cell_type": "code",
   "execution_count": null,
   "metadata": {
    "id": "-6SY79QX3i-x"
   },
   "outputs": [],
   "source": [
    "pipeline_rsvc = Pipeline([('model',SVC())\n",
    "                        ])\n",
    "params_rsvc = [{'model__C':[0.15], 'model__kernel':['rbf']}]\n",
    "rsvc_grid = GridSearchCV(estimator = pipeline_rsvc, param_grid = params_rsvc, scoring = 'accuracy', refit = True, cv = 10)"
   ]
  },
  {
   "cell_type": "code",
   "execution_count": null,
   "metadata": {
    "id": "nlIb1tJB3iz0"
   },
   "outputs": [],
   "source": [
    "import time\n",
    "start_time_rsvc = time.time()\n",
    "rsvc_grid = rsvc_grid.fit(X_train_pca,y_train)\n",
    "time_elapsed_rsvc = time.time() - start_time_rsvc\n",
    "accuracy_train_rsvc = rsvc_grid.score(X_train_pca, y_train)\n",
    "accuracy_test_rsvc = rsvc_grid.score(X_test_pca, y_test)"
   ]
  },
  {
   "cell_type": "code",
   "execution_count": null,
   "metadata": {
    "colab": {
     "base_uri": "https://localhost:8080/"
    },
    "id": "rbJLfJBB3io3",
    "outputId": "2f07357f-24bc-46a6-e77a-c8cbec16c00a"
   },
   "outputs": [
    {
     "name": "stdout",
     "output_type": "stream",
     "text": [
      "Radial Basis SVC Accuracy Score on reduced test data set: 7.04%\n",
      "Time for model to run on reduced traint data set: 1074.42384 seconds\n",
      "Radial Basis SVC Accuracy Score on reduced train data set: 95.23%\n"
     ]
    }
   ],
   "source": [
    "print(f\"Radial Basis SVC Accuracy Score on reduced test data set: {accuracy_test_rsvc:.2%}\")\n",
    "print(f\"Time for model to run on reduced traint data set: {time_elapsed_rsvc:.5f} seconds\")\n",
    "print(f\"Radial Basis SVC Accuracy Score on reduced train data set: {accuracy_train_rsvc:.2%}\")"
   ]
  },
  {
   "cell_type": "code",
   "execution_count": null,
   "metadata": {
    "id": "COs0UAyJ3icp"
   },
   "outputs": [],
   "source": [
    "pipeline_rsvc = Pipeline([('model',SVC())\n",
    "                        ])\n",
    "params_rsvc = [{'model__C':[0.2], 'model__kernel':['rbf']}]\n",
    "rsvc_grid = GridSearchCV(estimator = pipeline_rsvc, param_grid = params_rsvc, scoring = 'accuracy', refit = True, cv = 10)"
   ]
  },
  {
   "cell_type": "code",
   "execution_count": null,
   "metadata": {
    "id": "-Wc3WzB63iPQ"
   },
   "outputs": [],
   "source": [
    "import time\n",
    "start_time_rsvc = time.time()\n",
    "rsvc_grid = rsvc_grid.fit(X_train_pca,y_train)\n",
    "time_elapsed_rsvc = time.time() - start_time_rsvc\n",
    "accuracy_train_rsvc = rsvc_grid.score(X_train_pca, y_train)\n",
    "accuracy_test_rsvc = rsvc_grid.score(X_test_pca, y_test)"
   ]
  },
  {
   "cell_type": "code",
   "execution_count": null,
   "metadata": {
    "colab": {
     "base_uri": "https://localhost:8080/"
    },
    "id": "fJQviKfz3iC-",
    "outputId": "b7be52d6-1416-4de0-97cf-6305fc64692f"
   },
   "outputs": [
    {
     "name": "stdout",
     "output_type": "stream",
     "text": [
      "Radial Basis SVC Accuracy Score on reduced test data set: 7.05%\n",
      "Time for model to run on reduced traint data set: 1038.79500 seconds\n",
      "Radial Basis SVC Accuracy Score on reduced train data set: 95.70%\n"
     ]
    }
   ],
   "source": [
    "print(f\"Radial Basis SVC Accuracy Score on reduced test data set: {accuracy_test_rsvc:.2%}\")\n",
    "print(f\"Time for model to run on reduced traint data set: {time_elapsed_rsvc:.5f} seconds\")\n",
    "print(f\"Radial Basis SVC Accuracy Score on reduced train data set: {accuracy_train_rsvc:.2%}\")"
   ]
  },
  {
   "cell_type": "code",
   "execution_count": null,
   "metadata": {
    "id": "T2IF_cZh-iOU"
   },
   "outputs": [],
   "source": [
    "best_pca_rsvc = 0.2"
   ]
  },
  {
   "cell_type": "code",
   "execution_count": null,
   "metadata": {
    "id": "vsnLZn8r_Pq8"
   },
   "outputs": [],
   "source": [
    "rsvc_best = SVC(C = best_pca_rsvc, kernel = 'rbf')\n",
    "start_time_rsvc1 = time.time()\n",
    "rsvc_best.fit(X_test_pca,y_test)\n",
    "time_elapsed_rsvc1 = time.time() - start_time_rsvc1\n",
    "accuracy_test_rsvc1 = rsvc_best.score(X_test_pca, y_test)\n",
    "accuracy_train_rsvc1 = rsvc_best.score(X_train_pca, y_train)"
   ]
  },
  {
   "cell_type": "code",
   "execution_count": null,
   "metadata": {
    "colab": {
     "base_uri": "https://localhost:8080/"
    },
    "id": "mOrMj-IW_S1e",
    "outputId": "522430a6-9296-442e-d139-646b939d3064"
   },
   "outputs": [
    {
     "name": "stdout",
     "output_type": "stream",
     "text": [
      "Time for best model to run on reduced test data set: 13.86952 seconds\n",
      "Radial Basis SVM best Accuracy Score on reduced test data set: 93.66%\n",
      "Radial Basis SVM best Accuracy Score on reduced train data set: 5.89%\n"
     ]
    }
   ],
   "source": [
    "print(f\"Time for best model to run on reduced test data set: {time_elapsed_rsvc1:.5f} seconds\")\n",
    "print(f'Radial Basis SVM best Accuracy Score on reduced test data set: {accuracy_test_rsvc1:.2%}')\n",
    "print(f'Radial Basis SVM best Accuracy Score on reduced train data set: {accuracy_train_rsvc1:.2%}')"
   ]
  },
  {
   "cell_type": "markdown",
   "metadata": {
    "id": "XI8veR8HzSx0"
   },
   "source": [
    "> The best model has a c-value of 0.2 with the best optimization of accuracy and runtime"
   ]
  },
  {
   "cell_type": "markdown",
   "metadata": {
    "id": "GUjVhs4LRxiD"
   },
   "source": [
    "### Random Forest Classifiers"
   ]
  },
  {
   "cell_type": "markdown",
   "metadata": {
    "id": "UanxphQ6_XkY"
   },
   "source": [
    "Random Forests are complicated and evolved form of decision trees. They involve multiple decision trees at each node creating a strong learner and handles data imbalances more efficiently.\n",
    "\n",
    "It votes the class for each data point based on the decision made by the trees as defined by the model builder.\n",
    "\n",
    "This model reduces the effect of noise on the evaluation of the model.\n",
    "\n",
    "Tuning Parameters -\n",
    "- Number of trees\n",
    "- Number of samples in each class\n",
    "- Samples per leaf\n",
    "- Samples per split\n",
    "- Depth of the trees"
   ]
  },
  {
   "cell_type": "code",
   "execution_count": null,
   "metadata": {
    "id": "Pp6cqqMs_VwQ"
   },
   "outputs": [],
   "source": [
    "from sklearn.ensemble import RandomForestClassifier\n",
    "rf_model = RandomForestClassifier(n_estimators = 100, random_state = 42)"
   ]
  },
  {
   "cell_type": "code",
   "execution_count": null,
   "metadata": {
    "id": "1vf3LKqN_gYN"
   },
   "outputs": [],
   "source": [
    "import time\n",
    "start_time_rf = time.time()\n",
    "rf_model = rf_model.fit(X_train_pca,y_train)\n",
    "time_elapsed_rf = time.time() - start_time_rf\n",
    "accuracy_train_rf = rf_model.score(X_train_pca, y_train)\n",
    "accuracy_test_rf = rf_model.score(X_test_pca, y_test)"
   ]
  },
  {
   "cell_type": "code",
   "execution_count": null,
   "metadata": {
    "colab": {
     "base_uri": "https://localhost:8080/"
    },
    "id": "nyTQDKoE_7sN",
    "outputId": "add2191b-53fb-421e-9351-ff436c8205ab"
   },
   "outputs": [
    {
     "name": "stdout",
     "output_type": "stream",
     "text": [
      "Random Forest Accuracy Score on reduced train data set: 100.00%\n",
      "Random Forest Accuracy Score on reduced test data set: 6.47%\n",
      "Time for model to run on reduced train data set: 87.29230 seconds\n"
     ]
    }
   ],
   "source": [
    "print(f\"Random Forest Accuracy Score on reduced train data set: {accuracy_train_rf:.2%}\")\n",
    "print(f\"Random Forest Accuracy Score on reduced test data set: {accuracy_test_rf:.2%}\")\n",
    "print(f\"Time for model to run on reduced train data set: {time_elapsed_rf:.5f} seconds\")"
   ]
  },
  {
   "cell_type": "code",
   "execution_count": null,
   "metadata": {
    "colab": {
     "base_uri": "https://localhost:8080/"
    },
    "id": "E8z73ABpApW1",
    "outputId": "e583a322-3254-4ce3-d4ec-a1da2cad49d2"
   },
   "outputs": [
    {
     "name": "stdout",
     "output_type": "stream",
     "text": [
      "The test error estimate for Random Forest Classifier model is: 93.53%\n"
     ]
    }
   ],
   "source": [
    "from sklearn.metrics import accuracy_score\n",
    "rf_y_pred = rf_model.predict(X_test_pca)\n",
    "rf_test_accuracy = accuracy_score(y_test, rf_y_pred)\n",
    "rf_test_error = 1 - accuracy_test_rf\n",
    "print(f'The test error estimate for Random Forest Classifier model is: {rf_test_error:.2%}')"
   ]
  },
  {
   "cell_type": "markdown",
   "metadata": {
    "id": "OSSYlrM8Av6j"
   },
   "source": [
    "### Linear Discriminant Analysis (LDA)"
   ]
  },
  {
   "cell_type": "markdown",
   "metadata": {
    "id": "0HaIVm_7A0Q6"
   },
   "source": [
    "LDA is a supervised learning algorithm that finds axes or hyperplanes that distinguish the most between classes.\n",
    "\n",
    "- The distinction from PCA is that the for LDA classes are as far as possible.\n",
    "- LDA assumes the data is normally distributed.\n",
    "- Similar to logistic regression as the samples are independenlty treated unlike in PCA\n",
    "> LDA involves calculation of eigenvalues and ranking their respective eigenvectors. k eigenvectors are picked to project."
   ]
  },
  {
   "cell_type": "code",
   "execution_count": null,
   "metadata": {
    "id": "UK7YwkDcAzRJ"
   },
   "outputs": [],
   "source": [
    "from sklearn.discriminant_analysis import LinearDiscriminantAnalysis as LDA\n",
    "\n",
    "lda = LDA(n_components = 2)\n",
    "X_train_lda = lda.fit_transform(X_train_std, y_train)"
   ]
  },
  {
   "cell_type": "code",
   "execution_count": null,
   "metadata": {
    "id": "g2u95rNwA6BA"
   },
   "outputs": [],
   "source": [
    "from sklearn.model_selection import cross_val_score\n",
    "train_lda_score = cross_val_score(lda,X_train_std, y_train, cv = 5, scoring = 'accuracy')\n",
    "test_lda_score = cross_val_score(lda,X_test_std, y_test, cv = 5, scoring = 'accuracy')"
   ]
  },
  {
   "cell_type": "code",
   "execution_count": null,
   "metadata": {
    "colab": {
     "base_uri": "https://localhost:8080/"
    },
    "id": "4rE1HtVQWl_L",
    "outputId": "b35d2923-6fe8-4f7d-af63-8f2eb071788f"
   },
   "outputs": [
    {
     "name": "stdout",
     "output_type": "stream",
     "text": [
      "Average Accuracy Score of train data using LDA: 81.49%\n",
      "Average Accuracy Score of test data using LDA: 9.86%\n"
     ]
    }
   ],
   "source": [
    "print(f'Average Accuracy Score of train data using LDA: {train_lda_score.mean():.2%}')\n",
    "print(f'Average Accuracy Score of test data using LDA: {test_lda_score.mean():.2%}')"
   ]
  },
  {
   "cell_type": "markdown",
   "metadata": {
    "id": "kzVmwtQ0A_JY"
   },
   "source": [
    "### Quadratic Discriminant Analysis (QDA)"
   ]
  },
  {
   "cell_type": "markdown",
   "metadata": {
    "id": "PXfjtX2DBKgt"
   },
   "source": [
    "QDA invloves quadratic decision boundaries or hyperplanes unline linear onea in LDA. It allows flexibility in shape of the boundary shared by different classes and therefore could be computationally more exhausting."
   ]
  },
  {
   "cell_type": "code",
   "execution_count": null,
   "metadata": {
    "colab": {
     "base_uri": "https://localhost:8080/"
    },
    "id": "AX5e4gcNBLi-",
    "outputId": "c18ce4ae-0bf1-4e49-827b-7181a564be28"
   },
   "outputs": [
    {
     "name": "stderr",
     "output_type": "stream",
     "text": [
      "/usr/local/lib/python3.10/dist-packages/sklearn/discriminant_analysis.py:926: UserWarning: Variables are collinear\n",
      "  warnings.warn(\"Variables are collinear\")\n"
     ]
    }
   ],
   "source": [
    "from sklearn.discriminant_analysis import QuadraticDiscriminantAnalysis\n",
    "qda = QuadraticDiscriminantAnalysis()\n",
    "X_train_qda = qda.fit(X_train_std, y_train)"
   ]
  },
  {
   "cell_type": "code",
   "execution_count": null,
   "metadata": {
    "colab": {
     "base_uri": "https://localhost:8080/"
    },
    "id": "folRRaW_BNzq",
    "outputId": "fc2dd443-554d-4439-c80e-1327f98e917a"
   },
   "outputs": [
    {
     "name": "stderr",
     "output_type": "stream",
     "text": [
      "/usr/local/lib/python3.10/dist-packages/sklearn/discriminant_analysis.py:926: UserWarning: Variables are collinear\n",
      "  warnings.warn(\"Variables are collinear\")\n",
      "/usr/local/lib/python3.10/dist-packages/sklearn/discriminant_analysis.py:926: UserWarning: Variables are collinear\n",
      "  warnings.warn(\"Variables are collinear\")\n",
      "/usr/local/lib/python3.10/dist-packages/sklearn/discriminant_analysis.py:926: UserWarning: Variables are collinear\n",
      "  warnings.warn(\"Variables are collinear\")\n",
      "/usr/local/lib/python3.10/dist-packages/sklearn/discriminant_analysis.py:926: UserWarning: Variables are collinear\n",
      "  warnings.warn(\"Variables are collinear\")\n",
      "/usr/local/lib/python3.10/dist-packages/sklearn/discriminant_analysis.py:926: UserWarning: Variables are collinear\n",
      "  warnings.warn(\"Variables are collinear\")\n",
      "/usr/local/lib/python3.10/dist-packages/sklearn/discriminant_analysis.py:926: UserWarning: Variables are collinear\n",
      "  warnings.warn(\"Variables are collinear\")\n",
      "/usr/local/lib/python3.10/dist-packages/sklearn/discriminant_analysis.py:926: UserWarning: Variables are collinear\n",
      "  warnings.warn(\"Variables are collinear\")\n",
      "/usr/local/lib/python3.10/dist-packages/sklearn/discriminant_analysis.py:926: UserWarning: Variables are collinear\n",
      "  warnings.warn(\"Variables are collinear\")\n",
      "/usr/local/lib/python3.10/dist-packages/sklearn/discriminant_analysis.py:926: UserWarning: Variables are collinear\n",
      "  warnings.warn(\"Variables are collinear\")\n",
      "/usr/local/lib/python3.10/dist-packages/sklearn/discriminant_analysis.py:926: UserWarning: Variables are collinear\n",
      "  warnings.warn(\"Variables are collinear\")\n"
     ]
    }
   ],
   "source": [
    "train_qda_score = cross_val_score(qda,X_train_std, y_train, cv = 5, scoring = 'accuracy')\n",
    "test_qda_score = cross_val_score(qda,X_test_std, y_test,cv = 5, scoring = 'accuracy')"
   ]
  },
  {
   "cell_type": "code",
   "execution_count": null,
   "metadata": {
    "colab": {
     "base_uri": "https://localhost:8080/"
    },
    "id": "weBqt6XuW2Pr",
    "outputId": "486239f3-f2fa-4438-b00c-0b63a2d8bfc6"
   },
   "outputs": [
    {
     "name": "stdout",
     "output_type": "stream",
     "text": [
      "Average Accuracy Score of train data using QDA: 51.83%\n",
      "Average Accuracy Score of test data using QDA: 57.71%\n"
     ]
    }
   ],
   "source": [
    "print(f'Average Accuracy Score of train data using QDA: {train_qda_score.mean():.2%}')\n",
    "print(f'Average Accuracy Score of test data using QDA: {test_qda_score.mean():.2%}')"
   ]
  },
  {
   "cell_type": "markdown",
   "metadata": {
    "id": "9D0WFgLjpYHM"
   },
   "source": [
    "### Summary of Models\n",
    "|    Model    |  Train Accuracy  |  Test Accuracy  |  Time for execution  |\n",
    "|---------|------------------|----------|---------------------|\n",
    "|     KNN     |  97.11%   |  94.25%   |   0.10764s  |\n",
    "| Linear SVC  |  95.58%   |   5.56%   |   6.0266s   |\n",
    "| Radial SVC  |  95.70%   |   7.05%   |   13.8695s  |\n",
    "|Random Forest| 100.00%   |   6.47%   |   -         |\n",
    "|LDA          |  81.49%   |   9.86%   |  -         |\n",
    "|QDA          |  51.83%   |   57.71%  |   -         |\n"
   ]
  },
  {
   "cell_type": "markdown",
   "metadata": {
    "id": "qpWl5zt7xrgp"
   },
   "source": [
    "The above test accuracies are obtained after fitting the models with the train data set.\n",
    "- The KNN model has the highest test data accuracy. This is because 250 components were used to fit the train data set, whereas for other models 150 were used.\n",
    "- Random Forest Classifier has the highest train data accuracy.\n",
    "- All the models except KNN and QDA overfits the train data as the test accuracy is much lesser than the train accuracy.\n",
    "- QDA has a relatable train and test accuracy, however, it is not adequate to consider for further modeling or prediction. The reason being that the components considered have a high level of collinearity.\n",
    "> <b>The K-Nearest Neighbor model works the best among all the classification models used in this project.</b>"
   ]
  }
 ],
 "metadata": {
  "colab": {
   "provenance": []
  },
  "kernelspec": {
   "display_name": "Python 3 (ipykernel)",
   "language": "python",
   "name": "python3"
  },
  "language_info": {
   "codemirror_mode": {
    "name": "ipython",
    "version": 3
   },
   "file_extension": ".py",
   "mimetype": "text/x-python",
   "name": "python",
   "nbconvert_exporter": "python",
   "pygments_lexer": "ipython3",
   "version": "3.11.6"
  }
 },
 "nbformat": 4,
 "nbformat_minor": 4
}
